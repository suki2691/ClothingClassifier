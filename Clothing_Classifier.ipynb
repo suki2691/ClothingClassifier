{
 "cells": [
  {
   "cell_type": "code",
   "execution_count": 63,
   "metadata": {},
   "outputs": [],
   "source": [
    "import scipy.io\n",
    "import pandas as pd\n",
    "import glob\n",
    "from keras.applications.xception import Xception\n",
    "from keras.applications import imagenet_utils\n",
    "from keras.applications.inception_v3 import preprocess_input\n",
    "from keras.preprocessing.image import img_to_array, load_img, ImageDataGenerator\n",
    "from keras.models import Sequential, Model\n",
    "from keras.layers import Dropout, Flatten, Dense, Activation\n",
    "from keras import applications, regularizers\n",
    "from keras import optimizers\n",
    "from keras.callbacks import ModelCheckpoint, LearningRateScheduler, TensorBoard, EarlyStopping\n",
    "import matplotlib.pyplot as plt\n",
    "import numpy as np\n",
    "from sklearn.model_selection import train_test_split\n",
    "import shutil\n",
    "from sklearn.metrics import confusion_matrix, classification_report\n",
    "import os\n",
    "import seaborn as sns\n",
    "import matplotlib.pyplot as plt\n",
    "%matplotlib inline"
   ]
  },
  {
   "cell_type": "code",
   "execution_count": 2,
   "metadata": {
    "collapsed": true
   },
   "outputs": [],
   "source": [
    "filenames = glob.glob('ClothingAttributeDataset/labels/*.mat')"
   ]
  },
  {
   "cell_type": "code",
   "execution_count": 3,
   "metadata": {
    "collapsed": true
   },
   "outputs": [],
   "source": [
    "def extract_mat(filename):\n",
    "    '''Extract the labels from the .mat file and load into a dataframe'''\n",
    "    mat = scipy.io.loadmat(filename)\n",
    "    mat = {k:v for k, v in mat.items() if k[0] != '_'}\n",
    "    data = pd.DataFrame([j for i in mat.values() for j in i])\n",
    "    return data"
   ]
  },
  {
   "cell_type": "code",
   "execution_count": 4,
   "metadata": {
    "collapsed": true
   },
   "outputs": [],
   "source": [
    "y = extract_mat(filenames[-5])"
   ]
  },
  {
   "cell_type": "code",
   "execution_count": 5,
   "metadata": {},
   "outputs": [],
   "source": [
    "#Replaced all the NaN categories with 0\n",
    "y.fillna(0,inplace=True)"
   ]
  },
  {
   "cell_type": "markdown",
   "metadata": {},
   "source": [
    "## For this project, I started off with a pre-trained VGG16 model"
   ]
  },
  {
   "cell_type": "code",
   "execution_count": 6,
   "metadata": {},
   "outputs": [
    {
     "name": "stdout",
     "output_type": "stream",
     "text": [
      "_________________________________________________________________\n",
      "Layer (type)                 Output Shape              Param #   \n",
      "=================================================================\n",
      "input_1 (InputLayer)         (None, 224, 224, 3)       0         \n",
      "_________________________________________________________________\n",
      "block1_conv1 (Conv2D)        (None, 224, 224, 64)      1792      \n",
      "_________________________________________________________________\n",
      "block1_conv2 (Conv2D)        (None, 224, 224, 64)      36928     \n",
      "_________________________________________________________________\n",
      "block1_pool (MaxPooling2D)   (None, 112, 112, 64)      0         \n",
      "_________________________________________________________________\n",
      "block2_conv1 (Conv2D)        (None, 112, 112, 128)     73856     \n",
      "_________________________________________________________________\n",
      "block2_conv2 (Conv2D)        (None, 112, 112, 128)     147584    \n",
      "_________________________________________________________________\n",
      "block2_pool (MaxPooling2D)   (None, 56, 56, 128)       0         \n",
      "_________________________________________________________________\n",
      "block3_conv1 (Conv2D)        (None, 56, 56, 256)       295168    \n",
      "_________________________________________________________________\n",
      "block3_conv2 (Conv2D)        (None, 56, 56, 256)       590080    \n",
      "_________________________________________________________________\n",
      "block3_conv3 (Conv2D)        (None, 56, 56, 256)       590080    \n",
      "_________________________________________________________________\n",
      "block3_pool (MaxPooling2D)   (None, 28, 28, 256)       0         \n",
      "_________________________________________________________________\n",
      "block4_conv1 (Conv2D)        (None, 28, 28, 512)       1180160   \n",
      "_________________________________________________________________\n",
      "block4_conv2 (Conv2D)        (None, 28, 28, 512)       2359808   \n",
      "_________________________________________________________________\n",
      "block4_conv3 (Conv2D)        (None, 28, 28, 512)       2359808   \n",
      "_________________________________________________________________\n",
      "block4_pool (MaxPooling2D)   (None, 14, 14, 512)       0         \n",
      "_________________________________________________________________\n",
      "block5_conv1 (Conv2D)        (None, 14, 14, 512)       2359808   \n",
      "_________________________________________________________________\n",
      "block5_conv2 (Conv2D)        (None, 14, 14, 512)       2359808   \n",
      "_________________________________________________________________\n",
      "block5_conv3 (Conv2D)        (None, 14, 14, 512)       2359808   \n",
      "_________________________________________________________________\n",
      "block5_pool (MaxPooling2D)   (None, 7, 7, 512)         0         \n",
      "=================================================================\n",
      "Total params: 14,714,688\n",
      "Trainable params: 0\n",
      "Non-trainable params: 14,714,688\n",
      "_________________________________________________________________\n"
     ]
    }
   ],
   "source": [
    "base_model = applications.vgg16.VGG16(weights='imagenet', include_top=False, input_shape = (224,224,3))\n",
    "for layer in base_model.layers:\n",
    "    layer.trainable = False #Froze all the layers in the VGG16 model\n",
    "base_model.summary()"
   ]
  },
  {
   "cell_type": "markdown",
   "metadata": {},
   "source": [
    "## Created the output layers-\n",
    "I initially started off with just dense layers. When the training set accuracy was greater than the validation set accuracy, I introduced dropout and L1 and L2 regularizers. It helped reduce overfitting for a few epochs"
   ]
  },
  {
   "cell_type": "code",
   "execution_count": 7,
   "metadata": {},
   "outputs": [
    {
     "name": "stdout",
     "output_type": "stream",
     "text": [
      "_________________________________________________________________\n",
      "Layer (type)                 Output Shape              Param #   \n",
      "=================================================================\n",
      "input_1 (InputLayer)         (None, 224, 224, 3)       0         \n",
      "_________________________________________________________________\n",
      "block1_conv1 (Conv2D)        (None, 224, 224, 64)      1792      \n",
      "_________________________________________________________________\n",
      "block1_conv2 (Conv2D)        (None, 224, 224, 64)      36928     \n",
      "_________________________________________________________________\n",
      "block1_pool (MaxPooling2D)   (None, 112, 112, 64)      0         \n",
      "_________________________________________________________________\n",
      "block2_conv1 (Conv2D)        (None, 112, 112, 128)     73856     \n",
      "_________________________________________________________________\n",
      "block2_conv2 (Conv2D)        (None, 112, 112, 128)     147584    \n",
      "_________________________________________________________________\n",
      "block2_pool (MaxPooling2D)   (None, 56, 56, 128)       0         \n",
      "_________________________________________________________________\n",
      "block3_conv1 (Conv2D)        (None, 56, 56, 256)       295168    \n",
      "_________________________________________________________________\n",
      "block3_conv2 (Conv2D)        (None, 56, 56, 256)       590080    \n",
      "_________________________________________________________________\n",
      "block3_conv3 (Conv2D)        (None, 56, 56, 256)       590080    \n",
      "_________________________________________________________________\n",
      "block3_pool (MaxPooling2D)   (None, 28, 28, 256)       0         \n",
      "_________________________________________________________________\n",
      "block4_conv1 (Conv2D)        (None, 28, 28, 512)       1180160   \n",
      "_________________________________________________________________\n",
      "block4_conv2 (Conv2D)        (None, 28, 28, 512)       2359808   \n",
      "_________________________________________________________________\n",
      "block4_conv3 (Conv2D)        (None, 28, 28, 512)       2359808   \n",
      "_________________________________________________________________\n",
      "block4_pool (MaxPooling2D)   (None, 14, 14, 512)       0         \n",
      "_________________________________________________________________\n",
      "block5_conv1 (Conv2D)        (None, 14, 14, 512)       2359808   \n",
      "_________________________________________________________________\n",
      "block5_conv2 (Conv2D)        (None, 14, 14, 512)       2359808   \n",
      "_________________________________________________________________\n",
      "block5_conv3 (Conv2D)        (None, 14, 14, 512)       2359808   \n",
      "_________________________________________________________________\n",
      "block5_pool (MaxPooling2D)   (None, 7, 7, 512)         0         \n",
      "_________________________________________________________________\n",
      "flatten_1 (Flatten)          (None, 25088)             0         \n",
      "_________________________________________________________________\n",
      "fc1 (Dense)                  (None, 4096)              102764544 \n",
      "_________________________________________________________________\n",
      "dropout_1 (Dropout)          (None, 4096)              0         \n",
      "_________________________________________________________________\n",
      "fc2 (Dense)                  (None, 4096)              16781312  \n",
      "_________________________________________________________________\n",
      "dropout_2 (Dropout)          (None, 4096)              0         \n",
      "_________________________________________________________________\n",
      "dense_1 (Dense)              (None, 9)                 36873     \n",
      "=================================================================\n",
      "Total params: 134,297,417\n",
      "Trainable params: 119,582,729\n",
      "Non-trainable params: 14,714,688\n",
      "_________________________________________________________________\n"
     ]
    }
   ],
   "source": [
    "x = base_model.output\n",
    "x = Flatten()(x)\n",
    "x = Dense(4096, name='fc1')(x)\n",
    "x = Dropout(0.2)(x)\n",
    "x = Dense(4096, name='fc2')(x)\n",
    "x = Dropout(0.2)(x)\n",
    "x = Dense(9, activation='softmax', kernel_regularizer=regularizers.l2(0.01),\\\n",
    "          activity_regularizer=regularizers.l1(0.01))(x)\n",
    "\n",
    "\n",
    "model_final = Model(inputs=base_model.input, outputs=x)\n",
    "#Used categorical crossentropy since it was a multiclass classification problem\n",
    "model_final.compile(loss=\"categorical_crossentropy\", optimizer=optimizers.RMSprop(lr=0.00001), metrics=[\"accuracy\"])\n",
    "model_final.summary()"
   ]
  },
  {
   "cell_type": "code",
   "execution_count": 8,
   "metadata": {
    "collapsed": true
   },
   "outputs": [],
   "source": [
    "weights_file = 'vgg16_weights-improvement.h5'"
   ]
  },
  {
   "cell_type": "code",
   "execution_count": 9,
   "metadata": {
    "collapsed": true
   },
   "outputs": [],
   "source": [
    "image_set = glob.glob('ClothingAttributeDataset/images/*.jpg')"
   ]
  },
  {
   "cell_type": "code",
   "execution_count": 10,
   "metadata": {
    "collapsed": true
   },
   "outputs": [],
   "source": [
    "image_set.sort()"
   ]
  },
  {
   "cell_type": "markdown",
   "metadata": {},
   "source": [
    "### I used train test split to split the images into train and validation set ( 10% of 1856 images )"
   ]
  },
  {
   "cell_type": "code",
   "execution_count": 11,
   "metadata": {},
   "outputs": [],
   "source": [
    "train_images, test_images, y_train, y_test = train_test_split(image_set,y,random_state=42,test_size=0.1)"
   ]
  },
  {
   "cell_type": "code",
   "execution_count": 12,
   "metadata": {},
   "outputs": [],
   "source": [
    "train_data_path = 'train_data'\n",
    "test_data_path = 'test_data'"
   ]
  },
  {
   "cell_type": "code",
   "execution_count": 13,
   "metadata": {},
   "outputs": [],
   "source": [
    "## For moving the files into the folder structure required for training the model\n",
    "category_paths = ['train_data/none','train_data/shirt','train_data/sweater','train_data/tee',\n",
    "                  'train_data/outerwear','train_data/suit','train_data/tank','train_data/dress']\n",
    "for i in train_images:\n",
    "    for j in y[0].unique():\n",
    "        if y_train[0][int(i[32:-4])-1] == j:\n",
    "            shutil.copy(i,category_paths[int(j)])        "
   ]
  },
  {
   "cell_type": "code",
   "execution_count": 14,
   "metadata": {
    "collapsed": true
   },
   "outputs": [],
   "source": [
    "## For moving the files into the folder structure required for training the model\n",
    "category_paths_test = ['test_data/none','test_data/shirt','test_data/sweater','test_data/tee',\n",
    "                  'test_data/outerwear','test_data/suit','test_data/tank','test_data/dress']\n",
    "for i in test_images:\n",
    "    for j in y[0].unique():\n",
    "        if y_test[0][int(i[32:-4])-1] == j:\n",
    "            shutil.copy(i,category_paths_test[int(j)])"
   ]
  },
  {
   "cell_type": "code",
   "execution_count": 16,
   "metadata": {},
   "outputs": [],
   "source": [
    "## Getting multiple images from the existing set- data augmentation\n",
    "train_datagen = ImageDataGenerator(rescale=1. / 255,\n",
    "                                    rotation_range= 30,\n",
    "                                    width_shift_range=0.2,\n",
    "                                    height_shift_range=0.2,\n",
    "                                  shear_range =.2,\n",
    "                                  zoom_range = .2,\n",
    "                                  horizontal_flip = True)\n",
    "val_datagen = ImageDataGenerator(rescale=1. / 255,\n",
    "                                 rotation_range= 30,\n",
    "                                    width_shift_range=0.2,\n",
    "                                    height_shift_range=0.2,\n",
    "                                  shear_range =.2,\n",
    "                                  zoom_range = .2,\n",
    "                                  horizontal_flip = True)"
   ]
  },
  {
   "cell_type": "code",
   "execution_count": 17,
   "metadata": {},
   "outputs": [
    {
     "name": "stdout",
     "output_type": "stream",
     "text": [
      "Found 1670 images belonging to 9 classes.\n",
      "Found 186 images belonging to 9 classes.\n"
     ]
    }
   ],
   "source": [
    "#Extracting the training and validation data from the directories\n",
    "nb_validation_samples = len(y_test)\n",
    "nb_train_samples = len(y_train)\n",
    "epochs = 10\n",
    "batch_size = 8\n",
    "img_width, img_height = 224, 224\n",
    "\n",
    "\n",
    "train_generator = train_datagen.flow_from_directory(\n",
    "                train_data_path,\n",
    "                target_size=(img_width, img_height),\n",
    "                batch_size=batch_size,\n",
    "                class_mode='categorical',\n",
    "                shuffle=True)\n",
    "\n",
    "val_generator = val_datagen.flow_from_directory(\n",
    "                                test_data_path,\n",
    "                                target_size = (img_height, img_width),\n",
    "                                batch_size=batch_size,\n",
    "                                class_mode = \"categorical\")\n"
   ]
  },
  {
   "cell_type": "code",
   "execution_count": 18,
   "metadata": {},
   "outputs": [
    {
     "name": "stdout",
     "output_type": "stream",
     "text": [
      "Epoch 1/10\n",
      "207/208 [============================>.] - ETA: 0s - loss: 2.6845 - acc: 0.2844Epoch 00000: val_acc improved from -inf to 0.42935, saving model to vgg-improvement-00-0.2840.hdf5\n",
      "208/208 [==============================] - 124s - loss: 2.6853 - acc: 0.2843 - val_loss: 2.0554 - val_acc: 0.4293\n",
      "Epoch 2/10\n",
      "207/208 [============================>.] - ETA: 0s - loss: 2.2465 - acc: 0.3702Epoch 00001: val_acc did not improve\n",
      "208/208 [==============================] - 116s - loss: 2.2488 - acc: 0.3696 - val_loss: 2.2131 - val_acc: 0.3371\n",
      "Epoch 3/10\n",
      "207/208 [============================>.] - ETA: 0s - loss: 2.0545 - acc: 0.4014Epoch 00002: val_acc improved from 0.42935 to 0.47753, saving model to vgg-improvement-02-0.4019.hdf5\n",
      "208/208 [==============================] - 116s - loss: 2.0531 - acc: 0.4018 - val_loss: 1.9527 - val_acc: 0.4775\n",
      "Epoch 4/10\n",
      "207/208 [============================>.] - ETA: 0s - loss: 2.0005 - acc: 0.4231Epoch 00003: val_acc improved from 0.47753 to 0.48315, saving model to vgg-improvement-03-0.4236.hdf5\n",
      "208/208 [==============================] - 116s - loss: 1.9973 - acc: 0.4235 - val_loss: 1.6939 - val_acc: 0.4831\n",
      "Epoch 5/10\n",
      "207/208 [============================>.] - ETA: 0s - loss: 1.8982 - acc: 0.4503Epoch 00004: val_acc did not improve\n",
      "208/208 [==============================] - 115s - loss: 1.8956 - acc: 0.4511 - val_loss: 2.4830 - val_acc: 0.4270\n",
      "Epoch 6/10\n",
      "207/208 [============================>.] - ETA: 0s - loss: 1.8450 - acc: 0.4571Epoch 00005: val_acc did not improve\n",
      "208/208 [==============================] - 115s - loss: 1.8490 - acc: 0.4567 - val_loss: 1.9691 - val_acc: 0.4045\n",
      "Epoch 7/10\n",
      "207/208 [============================>.] - ETA: 0s - loss: 1.8509 - acc: 0.4539Epoch 00006: val_acc did not improve\n",
      "208/208 [==============================] - 115s - loss: 1.8520 - acc: 0.4535 - val_loss: 1.8670 - val_acc: 0.4157\n",
      "Epoch 8/10\n",
      "207/208 [============================>.] - ETA: 0s - loss: 1.8169 - acc: 0.4622Epoch 00007: val_acc did not improve\n",
      "208/208 [==============================] - 115s - loss: 1.8160 - acc: 0.4623 - val_loss: 1.9702 - val_acc: 0.4326\n",
      "Epoch 9/10\n",
      "207/208 [============================>.] - ETA: 0s - loss: 1.7237 - acc: 0.4712Epoch 00008: val_acc did not improve\n",
      "208/208 [==============================] - 115s - loss: 1.7236 - acc: 0.4714 - val_loss: 1.7634 - val_acc: 0.4270\n",
      "Epoch 10/10\n",
      "207/208 [============================>.] - ETA: 0s - loss: 1.7154 - acc: 0.4797Epoch 00009: val_acc did not improve\n",
      "208/208 [==============================] - 115s - loss: 1.7137 - acc: 0.4804 - val_loss: 2.3567 - val_acc: 0.2416\n"
     ]
    }
   ],
   "source": [
    "#Path for storing the improved weights\n",
    "filepath=\"vgg-improvement-{epoch:02d}-{acc:.4f}.hdf5\"\n",
    "checkpoint = ModelCheckpoint(filepath, monitor='val_acc', verbose=1, save_best_only=True, save_weights_only=False, mode='auto', period=1)\n",
    "early = EarlyStopping(monitor='val_acc', min_delta=0, patience=10, verbose=1, mode='auto')\n",
    "\n",
    "\n",
    "# Trainingthe model \n",
    "history = model_final.fit_generator(\n",
    "            train_generator,\n",
    "            steps_per_epoch=nb_train_samples//batch_size,\n",
    "            epochs=epochs,\n",
    "            validation_data=val_generator,\n",
    "            validation_steps=nb_validation_samples//batch_size,\n",
    "            verbose=1,\n",
    "            workers=4,\n",
    "            callbacks = [checkpoint, early])"
   ]
  },
  {
   "cell_type": "code",
   "execution_count": 19,
   "metadata": {},
   "outputs": [
    {
     "data": {
      "image/png": "[encoded data removed]",
      "text/plain": [
       "<matplotlib.figure.Figure at 0x7fb1ff355748>"
      ]
     },
     "metadata": {},
     "output_type": "display_data"
    }
   ],
   "source": [
    "#Plot to determine if the model is overfitting on the training set\n",
    "plt.plot(history.history['acc'])\n",
    "plt.plot(history.history['val_acc'])\n",
    "plt.title('model accuracy')\n",
    "plt.ylabel('accuracy')\n",
    "plt.xlabel('epoch')\n",
    "plt.legend(['train', 'validation'], loc='upper left')\n",
    "plt.show()"
   ]
  },
  {
   "cell_type": "markdown",
   "metadata": {},
   "source": [
    "## Confusion Matrix and Classification Report"
   ]
  },
  {
   "cell_type": "code",
   "execution_count": 49,
   "metadata": {},
   "outputs": [
    {
     "name": "stdout",
     "output_type": "stream",
     "text": [
      "Processing none\n",
      "Processing shirt\n",
      "Processing sweater\n",
      "Processing tee\n",
      "Processing outerwear\n",
      "Processing suit\n",
      "Processing tank\n",
      "Processing dress\n"
     ]
    }
   ],
   "source": [
    "y_test = []\n",
    "y_pred = []\n",
    "labels = ['none', 'shirt', 'sweater', 'tee', 'outerwear', 'suit', 'tank', 'dress']\n",
    "for i in labels:\n",
    "    print('Processing',i)\n",
    "    img_files = os.listdir('test_data/'+i)\n",
    "    for imgs in img_files:\n",
    "        img = load_img(('test_data/'+i+'/'+imgs), target_size=(224, 224))\n",
    "        img = img_to_array(img)\n",
    "        img = np.expand_dims(img, axis=0)\n",
    "        pred = model_final.predict(img)[0]\n",
    "        preds_labels = list(zip(labels, pred))\n",
    "#         print(preds_labels)\n",
    "        preds_labels.sort(key=lambda p: p[1], reverse=True)\n",
    "        y_test.append(i)\n",
    "        y_pred.append(preds_labels[0][0])\n",
    "        "
   ]
  },
  {
   "cell_type": "code",
   "execution_count": 73,
   "metadata": {},
   "outputs": [],
   "source": [
    "cf = confusion_matrix(y_test,y_pred,labels=labels)"
   ]
  },
  {
   "cell_type": "code",
   "execution_count": 74,
   "metadata": {},
   "outputs": [
    {
     "data": {
      "text/plain": [
       "array([[ 0,  1, 50,  5,  5, 13,  1,  1],\n",
       "       [ 0,  0,  8,  0,  1,  2,  1,  0],\n",
       "       [ 0,  1,  4,  0,  0,  1,  1,  0],\n",
       "       [10,  0,  2,  0,  0,  1,  0,  0],\n",
       "       [ 0,  1, 21,  2,  0,  1,  0,  0],\n",
       "       [ 0,  0,  6,  0,  0, 18,  0,  0],\n",
       "       [ 1,  2,  2,  0,  0,  0,  0,  1],\n",
       "       [ 0,  6, 10,  0,  1,  3,  1,  2]])"
      ]
     },
     "execution_count": 74,
     "metadata": {},
     "output_type": "execute_result"
    }
   ],
   "source": [
    "cf"
   ]
  },
  {
   "cell_type": "code",
   "execution_count": 78,
   "metadata": {},
   "outputs": [
    {
     "data": {
      "text/html": [
       "<div>\n",
       "<style>\n",
       "    .dataframe thead tr:only-child th {\n",
       "        text-align: right;\n",
       "    }\n",
       "\n",
       "    .dataframe thead th {\n",
       "        text-align: left;\n",
       "    }\n",
       "\n",
       "    .dataframe tbody tr th {\n",
       "        vertical-align: top;\n",
       "    }\n",
       "</style>\n",
       "<table border=\"1\" class=\"dataframe\">\n",
       "  <thead>\n",
       "    <tr style=\"text-align: right;\">\n",
       "      <th></th>\n",
       "      <th>none</th>\n",
       "      <th>shirt</th>\n",
       "      <th>sweater</th>\n",
       "      <th>tee</th>\n",
       "      <th>outerwear</th>\n",
       "      <th>suit</th>\n",
       "      <th>tank</th>\n",
       "      <th>dress</th>\n",
       "    </tr>\n",
       "  </thead>\n",
       "  <tbody>\n",
       "    <tr>\n",
       "      <th>none</th>\n",
       "      <td>0</td>\n",
       "      <td>1</td>\n",
       "      <td>50</td>\n",
       "      <td>5</td>\n",
       "      <td>5</td>\n",
       "      <td>13</td>\n",
       "      <td>1</td>\n",
       "      <td>1</td>\n",
       "    </tr>\n",
       "    <tr>\n",
       "      <th>shirt</th>\n",
       "      <td>0</td>\n",
       "      <td>0</td>\n",
       "      <td>8</td>\n",
       "      <td>0</td>\n",
       "      <td>1</td>\n",
       "      <td>2</td>\n",
       "      <td>1</td>\n",
       "      <td>0</td>\n",
       "    </tr>\n",
       "    <tr>\n",
       "      <th>sweater</th>\n",
       "      <td>0</td>\n",
       "      <td>1</td>\n",
       "      <td>4</td>\n",
       "      <td>0</td>\n",
       "      <td>0</td>\n",
       "      <td>1</td>\n",
       "      <td>1</td>\n",
       "      <td>0</td>\n",
       "    </tr>\n",
       "    <tr>\n",
       "      <th>tee</th>\n",
       "      <td>10</td>\n",
       "      <td>0</td>\n",
       "      <td>2</td>\n",
       "      <td>0</td>\n",
       "      <td>0</td>\n",
       "      <td>1</td>\n",
       "      <td>0</td>\n",
       "      <td>0</td>\n",
       "    </tr>\n",
       "    <tr>\n",
       "      <th>outerwear</th>\n",
       "      <td>0</td>\n",
       "      <td>1</td>\n",
       "      <td>21</td>\n",
       "      <td>2</td>\n",
       "      <td>0</td>\n",
       "      <td>1</td>\n",
       "      <td>0</td>\n",
       "      <td>0</td>\n",
       "    </tr>\n",
       "    <tr>\n",
       "      <th>suit</th>\n",
       "      <td>0</td>\n",
       "      <td>0</td>\n",
       "      <td>6</td>\n",
       "      <td>0</td>\n",
       "      <td>0</td>\n",
       "      <td>18</td>\n",
       "      <td>0</td>\n",
       "      <td>0</td>\n",
       "    </tr>\n",
       "    <tr>\n",
       "      <th>tank</th>\n",
       "      <td>1</td>\n",
       "      <td>2</td>\n",
       "      <td>2</td>\n",
       "      <td>0</td>\n",
       "      <td>0</td>\n",
       "      <td>0</td>\n",
       "      <td>0</td>\n",
       "      <td>1</td>\n",
       "    </tr>\n",
       "    <tr>\n",
       "      <th>dress</th>\n",
       "      <td>0</td>\n",
       "      <td>6</td>\n",
       "      <td>10</td>\n",
       "      <td>0</td>\n",
       "      <td>1</td>\n",
       "      <td>3</td>\n",
       "      <td>1</td>\n",
       "      <td>2</td>\n",
       "    </tr>\n",
       "  </tbody>\n",
       "</table>\n",
       "</div>"
      ],
      "text/plain": [
       "           none  shirt  sweater  tee  outerwear  suit  tank  dress\n",
       "none          0      1       50    5          5    13     1      1\n",
       "shirt         0      0        8    0          1     2     1      0\n",
       "sweater       0      1        4    0          0     1     1      0\n",
       "tee          10      0        2    0          0     1     0      0\n",
       "outerwear     0      1       21    2          0     1     0      0\n",
       "suit          0      0        6    0          0    18     0      0\n",
       "tank          1      2        2    0          0     0     0      1\n",
       "dress         0      6       10    0          1     3     1      2"
      ]
     },
     "execution_count": 78,
     "metadata": {},
     "output_type": "execute_result"
    }
   ],
   "source": [
    "df_cf = pd.DataFrame(cf)\n",
    "\n",
    "df_cf.index = labels\n",
    "df_cf.columns = labels\n",
    "\n",
    "df_cf"
   ]
  },
  {
   "cell_type": "code",
   "execution_count": 90,
   "metadata": {},
   "outputs": [
    {
     "name": "stderr",
     "output_type": "stream",
     "text": [
      "/home/ubuntu/anaconda3/lib/python3.6/site-packages/matplotlib/font_manager.py:1297: UserWarning: findfont: Font family ['sans-serif'] not found. Falling back to DejaVu Sans\n",
      "  (prop.get_family(), self.defaultFamily[fontext]))\n"
     ]
    },
    {
     "data": {
      "image/png": "[encoded data removed]",
      "text/plain": [
       "<matplotlib.figure.Figure at 0x7fb1aef5fa58>"
      ]
     },
     "metadata": {},
     "output_type": "display_data"
    }
   ],
   "source": [
    "plt.figure(figsize=(12,10))\n",
    "plt.title('Confusion Matrix')\n",
    "ax = sns.heatmap(df_cf, annot=True);\n",
    "ax.set(xlabel='predicted', ylabel='actual');"
   ]
  },
  {
   "cell_type": "code",
   "execution_count": 55,
   "metadata": {},
   "outputs": [
    {
     "name": "stdout",
     "output_type": "stream",
     "text": [
      "             precision    recall  f1-score   support\n",
      "\n",
      "      dress       0.50      0.09      0.15        23\n",
      "       none       0.00      0.00      0.00        76\n",
      "  outerwear       0.00      0.00      0.00        25\n",
      "      shirt       0.00      0.00      0.00        12\n",
      "       suit       0.46      0.75      0.57        24\n",
      "    sweater       0.04      0.57      0.07         7\n",
      "       tank       0.00      0.00      0.00         6\n",
      "        tee       0.00      0.00      0.00        13\n",
      "\n",
      "avg / total       0.12      0.13      0.09       186\n",
      "\n"
     ]
    }
   ],
   "source": [
    "print(classification_report(y_test,y_pred))"
   ]
  },
  {
   "cell_type": "code",
   "execution_count": null,
   "metadata": {
    "collapsed": true
   },
   "outputs": [],
   "source": []
  }
 ],
 "metadata": {
  "kernelspec": {
   "display_name": "Python 3",
   "language": "python",
   "name": "python3"
  },
  "language_info": {
   "codemirror_mode": {
    "name": "ipython",
    "version": 3
   },
   "file_extension": ".py",
   "mimetype": "text/x-python",
   "name": "python",
   "nbconvert_exporter": "python",
   "pygments_lexer": "ipython3",
   "version": "3.6.1"
  }
 },
 "nbformat": 4,
 "nbformat_minor": 2
}
